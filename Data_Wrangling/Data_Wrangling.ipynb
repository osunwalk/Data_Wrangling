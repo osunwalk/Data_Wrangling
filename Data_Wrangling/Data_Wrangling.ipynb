{
 "cells": [
  {
   "cell_type": "code",
   "execution_count": 1,
   "id": "7c2bfc52",
   "metadata": {},
   "outputs": [],
   "source": [
    "import pandas as pd\n",
    "import numpy as np\n",
    "import matplotlib.pyplot as plt"
   ]
  },
  {
   "cell_type": "code",
   "execution_count": 2,
   "id": "e1d89caf",
   "metadata": {},
   "outputs": [
    {
     "name": "stdout",
     "output_type": "stream",
     "text": [
      "<class 'pandas.core.frame.DataFrame'>\n",
      "RangeIndex: 20343 entries, 0 to 20342\n",
      "Data columns (total 14 columns):\n",
      " #   Column              Non-Null Count  Dtype  \n",
      "---  ------              --------------  -----  \n",
      " 0   ID                  20327 non-null  float64\n",
      " 1   Name                20343 non-null  object \n",
      " 2   Year Published      20342 non-null  float64\n",
      " 3   Min Players         20343 non-null  int64  \n",
      " 4   Max Players         20343 non-null  int64  \n",
      " 5   Play Time           20343 non-null  int64  \n",
      " 6   Min Age             20343 non-null  int64  \n",
      " 7   Users Rated         20343 non-null  int64  \n",
      " 8   Rating Average      20343 non-null  float64\n",
      " 9   BGG Rank            20343 non-null  int64  \n",
      " 10  Complexity Average  20343 non-null  float64\n",
      " 11  Owned Users         20320 non-null  float64\n",
      " 12  Mechanics           18745 non-null  object \n",
      " 13  Domains             10184 non-null  object \n",
      "dtypes: float64(5), int64(6), object(3)\n",
      "memory usage: 2.2+ MB\n"
     ]
    }
   ],
   "source": [
    "bgg_data = pd.read_excel('BGG_Data_Set.xlsx')\n",
    "bgg_data.info()"
   ]
  },
  {
   "cell_type": "code",
   "execution_count": 3,
   "id": "ea320296",
   "metadata": {
    "scrolled": true
   },
   "outputs": [
    {
     "data": {
      "text/html": [
       "<div>\n",
       "<style scoped>\n",
       "    .dataframe tbody tr th:only-of-type {\n",
       "        vertical-align: middle;\n",
       "    }\n",
       "\n",
       "    .dataframe tbody tr th {\n",
       "        vertical-align: top;\n",
       "    }\n",
       "\n",
       "    .dataframe thead th {\n",
       "        text-align: right;\n",
       "    }\n",
       "</style>\n",
       "<table border=\"1\" class=\"dataframe\">\n",
       "  <thead>\n",
       "    <tr style=\"text-align: right;\">\n",
       "      <th></th>\n",
       "      <th>ID</th>\n",
       "      <th>Name</th>\n",
       "      <th>Year Published</th>\n",
       "      <th>Min Players</th>\n",
       "      <th>Max Players</th>\n",
       "      <th>Play Time</th>\n",
       "      <th>Min Age</th>\n",
       "      <th>Users Rated</th>\n",
       "      <th>Rating Average</th>\n",
       "      <th>BGG Rank</th>\n",
       "      <th>Complexity Average</th>\n",
       "      <th>Owned Users</th>\n",
       "      <th>Mechanics</th>\n",
       "      <th>Domains</th>\n",
       "    </tr>\n",
       "  </thead>\n",
       "  <tbody>\n",
       "    <tr>\n",
       "      <th>0</th>\n",
       "      <td>174430.0</td>\n",
       "      <td>Gloomhaven</td>\n",
       "      <td>2017.0</td>\n",
       "      <td>1</td>\n",
       "      <td>4</td>\n",
       "      <td>120</td>\n",
       "      <td>14</td>\n",
       "      <td>42055</td>\n",
       "      <td>8.79244</td>\n",
       "      <td>1</td>\n",
       "      <td>3.8604</td>\n",
       "      <td>68323.0</td>\n",
       "      <td>Action Queue, Action Retrieval, Campaign / Bat...</td>\n",
       "      <td>Strategy Games, Thematic Games</td>\n",
       "    </tr>\n",
       "    <tr>\n",
       "      <th>1</th>\n",
       "      <td>161936.0</td>\n",
       "      <td>Pandemic Legacy: Season 1</td>\n",
       "      <td>2015.0</td>\n",
       "      <td>2</td>\n",
       "      <td>4</td>\n",
       "      <td>60</td>\n",
       "      <td>13</td>\n",
       "      <td>41643</td>\n",
       "      <td>8.61278</td>\n",
       "      <td>2</td>\n",
       "      <td>2.8405</td>\n",
       "      <td>65294.0</td>\n",
       "      <td>Action Points, Cooperative Game, Hand Manageme...</td>\n",
       "      <td>Strategy Games, Thematic Games</td>\n",
       "    </tr>\n",
       "    <tr>\n",
       "      <th>2</th>\n",
       "      <td>224517.0</td>\n",
       "      <td>Brass: Birmingham</td>\n",
       "      <td>2018.0</td>\n",
       "      <td>2</td>\n",
       "      <td>4</td>\n",
       "      <td>120</td>\n",
       "      <td>14</td>\n",
       "      <td>19217</td>\n",
       "      <td>8.66337</td>\n",
       "      <td>3</td>\n",
       "      <td>3.9129</td>\n",
       "      <td>28785.0</td>\n",
       "      <td>Hand Management, Income, Loans, Market, Networ...</td>\n",
       "      <td>Strategy Games</td>\n",
       "    </tr>\n",
       "    <tr>\n",
       "      <th>3</th>\n",
       "      <td>167791.0</td>\n",
       "      <td>Terraforming Mars</td>\n",
       "      <td>2016.0</td>\n",
       "      <td>1</td>\n",
       "      <td>5</td>\n",
       "      <td>120</td>\n",
       "      <td>12</td>\n",
       "      <td>64864</td>\n",
       "      <td>8.43254</td>\n",
       "      <td>4</td>\n",
       "      <td>3.2406</td>\n",
       "      <td>87099.0</td>\n",
       "      <td>Card Drafting, Drafting, End Game Bonuses, Han...</td>\n",
       "      <td>Strategy Games</td>\n",
       "    </tr>\n",
       "    <tr>\n",
       "      <th>4</th>\n",
       "      <td>233078.0</td>\n",
       "      <td>Twilight Imperium: Fourth Edition</td>\n",
       "      <td>2017.0</td>\n",
       "      <td>3</td>\n",
       "      <td>6</td>\n",
       "      <td>480</td>\n",
       "      <td>14</td>\n",
       "      <td>13468</td>\n",
       "      <td>8.69649</td>\n",
       "      <td>5</td>\n",
       "      <td>4.2219</td>\n",
       "      <td>16831.0</td>\n",
       "      <td>Action Drafting, Area Majority / Influence, Ar...</td>\n",
       "      <td>Strategy Games, Thematic Games</td>\n",
       "    </tr>\n",
       "  </tbody>\n",
       "</table>\n",
       "</div>"
      ],
      "text/plain": [
       "         ID                               Name  Year Published  Min Players  \\\n",
       "0  174430.0                         Gloomhaven          2017.0            1   \n",
       "1  161936.0          Pandemic Legacy: Season 1          2015.0            2   \n",
       "2  224517.0                  Brass: Birmingham          2018.0            2   \n",
       "3  167791.0                  Terraforming Mars          2016.0            1   \n",
       "4  233078.0  Twilight Imperium: Fourth Edition          2017.0            3   \n",
       "\n",
       "   Max Players  Play Time  Min Age  Users Rated  Rating Average  BGG Rank  \\\n",
       "0            4        120       14        42055         8.79244         1   \n",
       "1            4         60       13        41643         8.61278         2   \n",
       "2            4        120       14        19217         8.66337         3   \n",
       "3            5        120       12        64864         8.43254         4   \n",
       "4            6        480       14        13468         8.69649         5   \n",
       "\n",
       "   Complexity Average  Owned Users  \\\n",
       "0              3.8604      68323.0   \n",
       "1              2.8405      65294.0   \n",
       "2              3.9129      28785.0   \n",
       "3              3.2406      87099.0   \n",
       "4              4.2219      16831.0   \n",
       "\n",
       "                                           Mechanics  \\\n",
       "0  Action Queue, Action Retrieval, Campaign / Bat...   \n",
       "1  Action Points, Cooperative Game, Hand Manageme...   \n",
       "2  Hand Management, Income, Loans, Market, Networ...   \n",
       "3  Card Drafting, Drafting, End Game Bonuses, Han...   \n",
       "4  Action Drafting, Area Majority / Influence, Ar...   \n",
       "\n",
       "                          Domains  \n",
       "0  Strategy Games, Thematic Games  \n",
       "1  Strategy Games, Thematic Games  \n",
       "2                  Strategy Games  \n",
       "3                  Strategy Games  \n",
       "4  Strategy Games, Thematic Games  "
      ]
     },
     "execution_count": 3,
     "metadata": {},
     "output_type": "execute_result"
    }
   ],
   "source": [
    "bgg_data.head()"
   ]
  },
  {
   "cell_type": "code",
   "execution_count": 4,
   "id": "8be1b88c",
   "metadata": {},
   "outputs": [
    {
     "data": {
      "text/plain": [
       "ID                       16\n",
       "Name                      0\n",
       "Year Published            1\n",
       "Min Players               0\n",
       "Max Players               0\n",
       "Play Time                 0\n",
       "Min Age                   0\n",
       "Users Rated               0\n",
       "Rating Average            0\n",
       "BGG Rank                  0\n",
       "Complexity Average        0\n",
       "Owned Users              23\n",
       "Mechanics              1598\n",
       "Domains               10159\n",
       "dtype: int64"
      ]
     },
     "execution_count": 4,
     "metadata": {},
     "output_type": "execute_result"
    }
   ],
   "source": [
    "bgg_data.isnull().sum()"
   ]
  },
  {
   "cell_type": "code",
   "execution_count": 5,
   "id": "1e1b0496",
   "metadata": {
    "scrolled": true
   },
   "outputs": [
    {
     "data": {
      "text/html": [
       "<div>\n",
       "<style scoped>\n",
       "    .dataframe tbody tr th:only-of-type {\n",
       "        vertical-align: middle;\n",
       "    }\n",
       "\n",
       "    .dataframe tbody tr th {\n",
       "        vertical-align: top;\n",
       "    }\n",
       "\n",
       "    .dataframe thead th {\n",
       "        text-align: right;\n",
       "    }\n",
       "</style>\n",
       "<table border=\"1\" class=\"dataframe\">\n",
       "  <thead>\n",
       "    <tr style=\"text-align: right;\">\n",
       "      <th></th>\n",
       "      <th>ID</th>\n",
       "      <th>Name</th>\n",
       "      <th>Year Published</th>\n",
       "      <th>Min Players</th>\n",
       "      <th>Max Players</th>\n",
       "      <th>Play Time</th>\n",
       "      <th>Min Age</th>\n",
       "      <th>Users Rated</th>\n",
       "      <th>Rating Average</th>\n",
       "      <th>BGG Rank</th>\n",
       "      <th>Complexity Average</th>\n",
       "      <th>Owned Users</th>\n",
       "      <th>Mechanics</th>\n",
       "      <th>Domains</th>\n",
       "    </tr>\n",
       "  </thead>\n",
       "  <tbody>\n",
       "    <tr>\n",
       "      <th>10776</th>\n",
       "      <td>NaN</td>\n",
       "      <td>Ace of Aces: Jet Eagles</td>\n",
       "      <td>1990.0</td>\n",
       "      <td>2</td>\n",
       "      <td>2</td>\n",
       "      <td>20</td>\n",
       "      <td>10</td>\n",
       "      <td>110</td>\n",
       "      <td>6.259</td>\n",
       "      <td>10778</td>\n",
       "      <td>1.88</td>\n",
       "      <td>NaN</td>\n",
       "      <td>NaN</td>\n",
       "      <td>NaN</td>\n",
       "    </tr>\n",
       "    <tr>\n",
       "      <th>10835</th>\n",
       "      <td>NaN</td>\n",
       "      <td>Die Erben von Hoax</td>\n",
       "      <td>1999.0</td>\n",
       "      <td>3</td>\n",
       "      <td>8</td>\n",
       "      <td>45</td>\n",
       "      <td>12</td>\n",
       "      <td>137</td>\n",
       "      <td>6.048</td>\n",
       "      <td>10837</td>\n",
       "      <td>2.15</td>\n",
       "      <td>NaN</td>\n",
       "      <td>NaN</td>\n",
       "      <td>NaN</td>\n",
       "    </tr>\n",
       "    <tr>\n",
       "      <th>11152</th>\n",
       "      <td>NaN</td>\n",
       "      <td>Rommel in North Africa: The War in the Desert ...</td>\n",
       "      <td>1986.0</td>\n",
       "      <td>2</td>\n",
       "      <td>2</td>\n",
       "      <td>0</td>\n",
       "      <td>12</td>\n",
       "      <td>53</td>\n",
       "      <td>6.758</td>\n",
       "      <td>11154</td>\n",
       "      <td>3.63</td>\n",
       "      <td>NaN</td>\n",
       "      <td>NaN</td>\n",
       "      <td>NaN</td>\n",
       "    </tr>\n",
       "    <tr>\n",
       "      <th>11669</th>\n",
       "      <td>NaN</td>\n",
       "      <td>Migration: A Story of Generations</td>\n",
       "      <td>2012.0</td>\n",
       "      <td>2</td>\n",
       "      <td>4</td>\n",
       "      <td>30</td>\n",
       "      <td>12</td>\n",
       "      <td>49</td>\n",
       "      <td>7.199</td>\n",
       "      <td>11671</td>\n",
       "      <td>2.00</td>\n",
       "      <td>NaN</td>\n",
       "      <td>NaN</td>\n",
       "      <td>NaN</td>\n",
       "    </tr>\n",
       "    <tr>\n",
       "      <th>12649</th>\n",
       "      <td>NaN</td>\n",
       "      <td>Die Insel der steinernen Wachter</td>\n",
       "      <td>2009.0</td>\n",
       "      <td>2</td>\n",
       "      <td>4</td>\n",
       "      <td>120</td>\n",
       "      <td>12</td>\n",
       "      <td>49</td>\n",
       "      <td>6.727</td>\n",
       "      <td>12651</td>\n",
       "      <td>3.14</td>\n",
       "      <td>NaN</td>\n",
       "      <td>NaN</td>\n",
       "      <td>NaN</td>\n",
       "    </tr>\n",
       "    <tr>\n",
       "      <th>12764</th>\n",
       "      <td>NaN</td>\n",
       "      <td>Dragon Ball Z TCG (2014 edition)</td>\n",
       "      <td>2014.0</td>\n",
       "      <td>2</td>\n",
       "      <td>2</td>\n",
       "      <td>20</td>\n",
       "      <td>8</td>\n",
       "      <td>33</td>\n",
       "      <td>7.030</td>\n",
       "      <td>12766</td>\n",
       "      <td>2.50</td>\n",
       "      <td>NaN</td>\n",
       "      <td>NaN</td>\n",
       "      <td>NaN</td>\n",
       "    </tr>\n",
       "    <tr>\n",
       "      <th>13282</th>\n",
       "      <td>NaN</td>\n",
       "      <td>Dwarfest</td>\n",
       "      <td>2014.0</td>\n",
       "      <td>2</td>\n",
       "      <td>6</td>\n",
       "      <td>45</td>\n",
       "      <td>12</td>\n",
       "      <td>82</td>\n",
       "      <td>6.126</td>\n",
       "      <td>13284</td>\n",
       "      <td>1.75</td>\n",
       "      <td>NaN</td>\n",
       "      <td>NaN</td>\n",
       "      <td>NaN</td>\n",
       "    </tr>\n",
       "    <tr>\n",
       "      <th>13984</th>\n",
       "      <td>NaN</td>\n",
       "      <td>Hus</td>\n",
       "      <td>NaN</td>\n",
       "      <td>2</td>\n",
       "      <td>2</td>\n",
       "      <td>40</td>\n",
       "      <td>0</td>\n",
       "      <td>38</td>\n",
       "      <td>6.284</td>\n",
       "      <td>13986</td>\n",
       "      <td>1.50</td>\n",
       "      <td>NaN</td>\n",
       "      <td>NaN</td>\n",
       "      <td>NaN</td>\n",
       "    </tr>\n",
       "    <tr>\n",
       "      <th>14053</th>\n",
       "      <td>NaN</td>\n",
       "      <td>Contrario 2</td>\n",
       "      <td>2006.0</td>\n",
       "      <td>2</td>\n",
       "      <td>12</td>\n",
       "      <td>0</td>\n",
       "      <td>14</td>\n",
       "      <td>37</td>\n",
       "      <td>6.300</td>\n",
       "      <td>14055</td>\n",
       "      <td>1.00</td>\n",
       "      <td>NaN</td>\n",
       "      <td>NaN</td>\n",
       "      <td>NaN</td>\n",
       "    </tr>\n",
       "    <tr>\n",
       "      <th>14663</th>\n",
       "      <td>NaN</td>\n",
       "      <td>Warage: Extended Edition</td>\n",
       "      <td>2017.0</td>\n",
       "      <td>2</td>\n",
       "      <td>6</td>\n",
       "      <td>90</td>\n",
       "      <td>10</td>\n",
       "      <td>49</td>\n",
       "      <td>7.643</td>\n",
       "      <td>14665</td>\n",
       "      <td>3.00</td>\n",
       "      <td>NaN</td>\n",
       "      <td>NaN</td>\n",
       "      <td>NaN</td>\n",
       "    </tr>\n",
       "    <tr>\n",
       "      <th>16292</th>\n",
       "      <td>NaN</td>\n",
       "      <td>Rainbow</td>\n",
       "      <td>2010.0</td>\n",
       "      <td>2</td>\n",
       "      <td>6</td>\n",
       "      <td>20</td>\n",
       "      <td>8</td>\n",
       "      <td>35</td>\n",
       "      <td>5.651</td>\n",
       "      <td>16294</td>\n",
       "      <td>2.00</td>\n",
       "      <td>NaN</td>\n",
       "      <td>NaN</td>\n",
       "      <td>NaN</td>\n",
       "    </tr>\n",
       "    <tr>\n",
       "      <th>17009</th>\n",
       "      <td>NaN</td>\n",
       "      <td>Sexy, el juego del arte del flirteo</td>\n",
       "      <td>2014.0</td>\n",
       "      <td>3</td>\n",
       "      <td>4</td>\n",
       "      <td>120</td>\n",
       "      <td>18</td>\n",
       "      <td>39</td>\n",
       "      <td>5.830</td>\n",
       "      <td>17011</td>\n",
       "      <td>1.67</td>\n",
       "      <td>NaN</td>\n",
       "      <td>NaN</td>\n",
       "      <td>NaN</td>\n",
       "    </tr>\n",
       "    <tr>\n",
       "      <th>18672</th>\n",
       "      <td>NaN</td>\n",
       "      <td>Dracarys Dice Don't Get Burned!</td>\n",
       "      <td>2018.0</td>\n",
       "      <td>2</td>\n",
       "      <td>5</td>\n",
       "      <td>15</td>\n",
       "      <td>10</td>\n",
       "      <td>86</td>\n",
       "      <td>5.330</td>\n",
       "      <td>18674</td>\n",
       "      <td>1.00</td>\n",
       "      <td>NaN</td>\n",
       "      <td>NaN</td>\n",
       "      <td>NaN</td>\n",
       "    </tr>\n",
       "    <tr>\n",
       "      <th>19332</th>\n",
       "      <td>NaN</td>\n",
       "      <td>Battleship: Tactical Capital Ship Combat 1925-...</td>\n",
       "      <td>1986.0</td>\n",
       "      <td>2</td>\n",
       "      <td>2</td>\n",
       "      <td>90</td>\n",
       "      <td>8</td>\n",
       "      <td>131</td>\n",
       "      <td>5.066</td>\n",
       "      <td>19334</td>\n",
       "      <td>2.00</td>\n",
       "      <td>NaN</td>\n",
       "      <td>NaN</td>\n",
       "      <td>NaN</td>\n",
       "    </tr>\n",
       "    <tr>\n",
       "      <th>19474</th>\n",
       "      <td>NaN</td>\n",
       "      <td>The Umbrella Academy Game</td>\n",
       "      <td>2020.0</td>\n",
       "      <td>1</td>\n",
       "      <td>6</td>\n",
       "      <td>40</td>\n",
       "      <td>12</td>\n",
       "      <td>41</td>\n",
       "      <td>3.162</td>\n",
       "      <td>19476</td>\n",
       "      <td>1.00</td>\n",
       "      <td>NaN</td>\n",
       "      <td>NaN</td>\n",
       "      <td>NaN</td>\n",
       "    </tr>\n",
       "    <tr>\n",
       "      <th>20040</th>\n",
       "      <td>NaN</td>\n",
       "      <td>Hidden Conflict</td>\n",
       "      <td>2005.0</td>\n",
       "      <td>2</td>\n",
       "      <td>6</td>\n",
       "      <td>30</td>\n",
       "      <td>10</td>\n",
       "      <td>128</td>\n",
       "      <td>4.352</td>\n",
       "      <td>20042</td>\n",
       "      <td>1.70</td>\n",
       "      <td>NaN</td>\n",
       "      <td>NaN</td>\n",
       "      <td>NaN</td>\n",
       "    </tr>\n",
       "  </tbody>\n",
       "</table>\n",
       "</div>"
      ],
      "text/plain": [
       "       ID                                               Name  Year Published  \\\n",
       "10776 NaN                            Ace of Aces: Jet Eagles          1990.0   \n",
       "10835 NaN                                 Die Erben von Hoax          1999.0   \n",
       "11152 NaN  Rommel in North Africa: The War in the Desert ...          1986.0   \n",
       "11669 NaN                  Migration: A Story of Generations          2012.0   \n",
       "12649 NaN                   Die Insel der steinernen Wachter          2009.0   \n",
       "12764 NaN                   Dragon Ball Z TCG (2014 edition)          2014.0   \n",
       "13282 NaN                                           Dwarfest          2014.0   \n",
       "13984 NaN                                                Hus             NaN   \n",
       "14053 NaN                                        Contrario 2          2006.0   \n",
       "14663 NaN                           Warage: Extended Edition          2017.0   \n",
       "16292 NaN                                            Rainbow          2010.0   \n",
       "17009 NaN                Sexy, el juego del arte del flirteo          2014.0   \n",
       "18672 NaN                    Dracarys Dice Don't Get Burned!          2018.0   \n",
       "19332 NaN  Battleship: Tactical Capital Ship Combat 1925-...          1986.0   \n",
       "19474 NaN                          The Umbrella Academy Game          2020.0   \n",
       "20040 NaN                                    Hidden Conflict          2005.0   \n",
       "\n",
       "       Min Players  Max Players  Play Time  Min Age  Users Rated  \\\n",
       "10776            2            2         20       10          110   \n",
       "10835            3            8         45       12          137   \n",
       "11152            2            2          0       12           53   \n",
       "11669            2            4         30       12           49   \n",
       "12649            2            4        120       12           49   \n",
       "12764            2            2         20        8           33   \n",
       "13282            2            6         45       12           82   \n",
       "13984            2            2         40        0           38   \n",
       "14053            2           12          0       14           37   \n",
       "14663            2            6         90       10           49   \n",
       "16292            2            6         20        8           35   \n",
       "17009            3            4        120       18           39   \n",
       "18672            2            5         15       10           86   \n",
       "19332            2            2         90        8          131   \n",
       "19474            1            6         40       12           41   \n",
       "20040            2            6         30       10          128   \n",
       "\n",
       "       Rating Average  BGG Rank  Complexity Average  Owned Users Mechanics  \\\n",
       "10776           6.259     10778                1.88          NaN       NaN   \n",
       "10835           6.048     10837                2.15          NaN       NaN   \n",
       "11152           6.758     11154                3.63          NaN       NaN   \n",
       "11669           7.199     11671                2.00          NaN       NaN   \n",
       "12649           6.727     12651                3.14          NaN       NaN   \n",
       "12764           7.030     12766                2.50          NaN       NaN   \n",
       "13282           6.126     13284                1.75          NaN       NaN   \n",
       "13984           6.284     13986                1.50          NaN       NaN   \n",
       "14053           6.300     14055                1.00          NaN       NaN   \n",
       "14663           7.643     14665                3.00          NaN       NaN   \n",
       "16292           5.651     16294                2.00          NaN       NaN   \n",
       "17009           5.830     17011                1.67          NaN       NaN   \n",
       "18672           5.330     18674                1.00          NaN       NaN   \n",
       "19332           5.066     19334                2.00          NaN       NaN   \n",
       "19474           3.162     19476                1.00          NaN       NaN   \n",
       "20040           4.352     20042                1.70          NaN       NaN   \n",
       "\n",
       "      Domains  \n",
       "10776     NaN  \n",
       "10835     NaN  \n",
       "11152     NaN  \n",
       "11669     NaN  \n",
       "12649     NaN  \n",
       "12764     NaN  \n",
       "13282     NaN  \n",
       "13984     NaN  \n",
       "14053     NaN  \n",
       "14663     NaN  \n",
       "16292     NaN  \n",
       "17009     NaN  \n",
       "18672     NaN  \n",
       "19332     NaN  \n",
       "19474     NaN  \n",
       "20040     NaN  "
      ]
     },
     "execution_count": 5,
     "metadata": {},
     "output_type": "execute_result"
    }
   ],
   "source": [
    "bgg_data[bgg_data.ID.isnull()]"
   ]
  },
  {
   "cell_type": "markdown",
   "id": "ec595e23",
   "metadata": {},
   "source": [
    "Seeing as there were only 16 IDs missing, I set out to look online on how to replace the null values and I found out that the ID numbers are available online on the https://boardgamegeek.com/ site. When a specific boardgame is searched for a selected on the site, the url will say for example https://boardgamegeek.com/boardgame/1991/ace-aces-jet-eagles. The number before the board game title is the ID number.(1991) Seeing this, I replaced all the ID numbers for the null values as it is important to have all the ID values."
   ]
  },
  {
   "cell_type": "code",
   "execution_count": 6,
   "id": "6679f68c",
   "metadata": {},
   "outputs": [
    {
     "data": {
      "text/plain": [
       "nan"
      ]
     },
     "execution_count": 6,
     "metadata": {},
     "output_type": "execute_result"
    }
   ],
   "source": [
    "bgg_data.loc[10776, 'ID']"
   ]
  },
  {
   "cell_type": "code",
   "execution_count": 7,
   "id": "41110b98",
   "metadata": {},
   "outputs": [],
   "source": [
    "bgg_data.loc[10776, 'ID'] = 1991"
   ]
  },
  {
   "cell_type": "code",
   "execution_count": 8,
   "id": "4dac47c5",
   "metadata": {},
   "outputs": [
    {
     "data": {
      "text/plain": [
       "1991.0"
      ]
     },
     "execution_count": 8,
     "metadata": {},
     "output_type": "execute_result"
    }
   ],
   "source": [
    "bgg_data.loc[10776, 'ID']"
   ]
  },
  {
   "cell_type": "code",
   "execution_count": 9,
   "id": "f57f8192",
   "metadata": {},
   "outputs": [],
   "source": [
    "bgg_data.loc[10835, 'ID'] = 413\n",
    "bgg_data.loc[11152, 'ID'] =11113\n",
    "bgg_data.loc[11669, 'ID'] =143663\n",
    "bgg_data.loc[12649, 'ID'] =54501\n",
    "bgg_data.loc[12764, 'ID'] =168077\n",
    "bgg_data.loc[13282, 'ID'] =170337\n",
    "bgg_data.loc[13984, 'ID'] =25999\n",
    "bgg_data.loc[14053, 'ID'] =27227\n",
    "bgg_data.loc[14663, 'ID'] =198886\n",
    "bgg_data.loc[16292, 'ID'] =73574\n",
    "bgg_data.loc[17009, 'ID'] =148211\n",
    "bgg_data.loc[18672, 'ID'] =269573\n",
    "bgg_data.loc[19332, 'ID'] =8173\n",
    "bgg_data.loc[19474, 'ID'] =316555\n",
    "bgg_data.loc[20040, 'ID'] =15804"
   ]
  },
  {
   "cell_type": "code",
   "execution_count": 10,
   "id": "f1ee3cbe",
   "metadata": {},
   "outputs": [
    {
     "data": {
      "text/html": [
       "<div>\n",
       "<style scoped>\n",
       "    .dataframe tbody tr th:only-of-type {\n",
       "        vertical-align: middle;\n",
       "    }\n",
       "\n",
       "    .dataframe tbody tr th {\n",
       "        vertical-align: top;\n",
       "    }\n",
       "\n",
       "    .dataframe thead th {\n",
       "        text-align: right;\n",
       "    }\n",
       "</style>\n",
       "<table border=\"1\" class=\"dataframe\">\n",
       "  <thead>\n",
       "    <tr style=\"text-align: right;\">\n",
       "      <th></th>\n",
       "      <th>ID</th>\n",
       "      <th>Name</th>\n",
       "      <th>Year Published</th>\n",
       "      <th>Min Players</th>\n",
       "      <th>Max Players</th>\n",
       "      <th>Play Time</th>\n",
       "      <th>Min Age</th>\n",
       "      <th>Users Rated</th>\n",
       "      <th>Rating Average</th>\n",
       "      <th>BGG Rank</th>\n",
       "      <th>Complexity Average</th>\n",
       "      <th>Owned Users</th>\n",
       "      <th>Mechanics</th>\n",
       "      <th>Domains</th>\n",
       "    </tr>\n",
       "  </thead>\n",
       "  <tbody>\n",
       "  </tbody>\n",
       "</table>\n",
       "</div>"
      ],
      "text/plain": [
       "Empty DataFrame\n",
       "Columns: [ID, Name, Year Published, Min Players, Max Players, Play Time, Min Age, Users Rated, Rating Average, BGG Rank, Complexity Average, Owned Users, Mechanics, Domains]\n",
       "Index: []"
      ]
     },
     "execution_count": 10,
     "metadata": {},
     "output_type": "execute_result"
    }
   ],
   "source": [
    "bgg_data[bgg_data.ID.isnull()]"
   ]
  },
  {
   "cell_type": "code",
   "execution_count": 11,
   "id": "7cf5bc5a",
   "metadata": {
    "scrolled": true
   },
   "outputs": [
    {
     "data": {
      "text/html": [
       "<div>\n",
       "<style scoped>\n",
       "    .dataframe tbody tr th:only-of-type {\n",
       "        vertical-align: middle;\n",
       "    }\n",
       "\n",
       "    .dataframe tbody tr th {\n",
       "        vertical-align: top;\n",
       "    }\n",
       "\n",
       "    .dataframe thead th {\n",
       "        text-align: right;\n",
       "    }\n",
       "</style>\n",
       "<table border=\"1\" class=\"dataframe\">\n",
       "  <thead>\n",
       "    <tr style=\"text-align: right;\">\n",
       "      <th></th>\n",
       "      <th>ID</th>\n",
       "      <th>Name</th>\n",
       "      <th>Year Published</th>\n",
       "      <th>Min Players</th>\n",
       "      <th>Max Players</th>\n",
       "      <th>Play Time</th>\n",
       "      <th>Min Age</th>\n",
       "      <th>Users Rated</th>\n",
       "      <th>Rating Average</th>\n",
       "      <th>BGG Rank</th>\n",
       "      <th>Complexity Average</th>\n",
       "      <th>Owned Users</th>\n",
       "      <th>Mechanics</th>\n",
       "      <th>Domains</th>\n",
       "    </tr>\n",
       "  </thead>\n",
       "  <tbody>\n",
       "    <tr>\n",
       "      <th>13984</th>\n",
       "      <td>25999.0</td>\n",
       "      <td>Hus</td>\n",
       "      <td>NaN</td>\n",
       "      <td>2</td>\n",
       "      <td>2</td>\n",
       "      <td>40</td>\n",
       "      <td>0</td>\n",
       "      <td>38</td>\n",
       "      <td>6.284</td>\n",
       "      <td>13986</td>\n",
       "      <td>1.5</td>\n",
       "      <td>NaN</td>\n",
       "      <td>NaN</td>\n",
       "      <td>NaN</td>\n",
       "    </tr>\n",
       "  </tbody>\n",
       "</table>\n",
       "</div>"
      ],
      "text/plain": [
       "            ID Name  Year Published  Min Players  Max Players  Play Time  \\\n",
       "13984  25999.0  Hus             NaN            2            2         40   \n",
       "\n",
       "       Min Age  Users Rated  Rating Average  BGG Rank  Complexity Average  \\\n",
       "13984        0           38           6.284     13986                 1.5   \n",
       "\n",
       "       Owned Users Mechanics Domains  \n",
       "13984          NaN       NaN     NaN  "
      ]
     },
     "execution_count": 11,
     "metadata": {},
     "output_type": "execute_result"
    }
   ],
   "source": [
    "bgg_data[bgg_data[\"Year Published\"].isnull()]"
   ]
  },
  {
   "cell_type": "markdown",
   "id": "7521ddb8",
   "metadata": {},
   "source": [
    "There is only a single value where the Year Published is unknown so I made the default value to be 0 to see the histogram to see if there were any significant outliers."
   ]
  },
  {
   "cell_type": "code",
   "execution_count": 12,
   "id": "23058291",
   "metadata": {},
   "outputs": [],
   "source": [
    "bgg_data.loc[13984, 'Year Published'] =0"
   ]
  },
  {
   "cell_type": "code",
   "execution_count": 13,
   "id": "5c0bc997",
   "metadata": {},
   "outputs": [
    {
     "data": {
      "text/plain": [
       "<AxesSubplot:>"
      ]
     },
     "execution_count": 13,
     "metadata": {},
     "output_type": "execute_result"
    },
    {
     "data": {
      "image/png": "[encoded data removed]",
      "text/plain": [
       "<Figure size 432x288 with 1 Axes>"
      ]
     },
     "metadata": {
      "needs_background": "light"
     },
     "output_type": "display_data"
    }
   ],
   "source": [
    "bgg_data[\"Year Published\"].hist()"
   ]
  },
  {
   "cell_type": "markdown",
   "id": "8111d0f8",
   "metadata": {},
   "source": [
    "The data all seems to be within a plausible range with no outliers other than the single 0. Therefore we can move on and clean the other null values."
   ]
  },
  {
   "cell_type": "code",
   "execution_count": 14,
   "id": "2c7631c1",
   "metadata": {},
   "outputs": [
    {
     "data": {
      "text/plain": [
       "ID                        0\n",
       "Name                      0\n",
       "Year Published            0\n",
       "Min Players               0\n",
       "Max Players               0\n",
       "Play Time                 0\n",
       "Min Age                   0\n",
       "Users Rated               0\n",
       "Rating Average            0\n",
       "BGG Rank                  0\n",
       "Complexity Average        0\n",
       "Owned Users              23\n",
       "Mechanics              1598\n",
       "Domains               10159\n",
       "dtype: int64"
      ]
     },
     "execution_count": 14,
     "metadata": {},
     "output_type": "execute_result"
    }
   ],
   "source": [
    "bgg_data.isnull().sum()"
   ]
  },
  {
   "cell_type": "markdown",
   "id": "6b995fb1",
   "metadata": {},
   "source": [
    "We notice that Owned Users, Mechanics, and Domains have null values still. Owned users is an integer and it is not possible to have 0 owned users so we will set that as the default value. Since there are only 23 null values, there should not be that many null values and will will check with a histogram."
   ]
  },
  {
   "cell_type": "code",
   "execution_count": 15,
   "id": "d39b2a12",
   "metadata": {
    "scrolled": true
   },
   "outputs": [],
   "source": [
    "bgg_data['Owned Users'] = bgg_data['Owned Users'].fillna(0)"
   ]
  },
  {
   "cell_type": "code",
   "execution_count": 16,
   "id": "06706373",
   "metadata": {},
   "outputs": [
    {
     "data": {
      "text/plain": [
       "ID                        0\n",
       "Name                      0\n",
       "Year Published            0\n",
       "Min Players               0\n",
       "Max Players               0\n",
       "Play Time                 0\n",
       "Min Age                   0\n",
       "Users Rated               0\n",
       "Rating Average            0\n",
       "BGG Rank                  0\n",
       "Complexity Average        0\n",
       "Owned Users               0\n",
       "Mechanics              1598\n",
       "Domains               10159\n",
       "dtype: int64"
      ]
     },
     "execution_count": 16,
     "metadata": {},
     "output_type": "execute_result"
    }
   ],
   "source": [
    "bgg_data.isnull().sum()"
   ]
  },
  {
   "cell_type": "code",
   "execution_count": 17,
   "id": "abf5ecfb",
   "metadata": {},
   "outputs": [
    {
     "data": {
      "text/plain": [
       "<AxesSubplot:>"
      ]
     },
     "execution_count": 17,
     "metadata": {},
     "output_type": "execute_result"
    },
    {
     "data": {
      "image/png": "[encoded data removed]",
      "text/plain": [
       "<Figure size 432x288 with 1 Axes>"
      ]
     },
     "metadata": {
      "needs_background": "light"
     },
     "output_type": "display_data"
    }
   ],
   "source": [
    "bgg_data[\"Owned Users\"].hist()"
   ]
  },
  {
   "cell_type": "markdown",
   "id": "f7219932",
   "metadata": {},
   "source": [
    "Looking at the histogram, the data is within the plausible range of data. Therefore we move on to mechanics and domains, This section is all strings and being null means that the mechanics or the domain in which the boardgame is unknown. We will just put unknown as the default value as we can still use that to see whether having these values influence the rank of the board game."
   ]
  },
  {
   "cell_type": "code",
   "execution_count": 18,
   "id": "0e26b6a6",
   "metadata": {},
   "outputs": [],
   "source": [
    "bgg_data['Mechanics'] = bgg_data['Mechanics'].fillna('Unknown')\n",
    "bgg_data['Domains'] = bgg_data['Domains'].fillna('Unknown')"
   ]
  },
  {
   "cell_type": "code",
   "execution_count": 19,
   "id": "2dfe67bc",
   "metadata": {},
   "outputs": [
    {
     "data": {
      "text/plain": [
       "ID                    0\n",
       "Name                  0\n",
       "Year Published        0\n",
       "Min Players           0\n",
       "Max Players           0\n",
       "Play Time             0\n",
       "Min Age               0\n",
       "Users Rated           0\n",
       "Rating Average        0\n",
       "BGG Rank              0\n",
       "Complexity Average    0\n",
       "Owned Users           0\n",
       "Mechanics             0\n",
       "Domains               0\n",
       "dtype: int64"
      ]
     },
     "execution_count": 19,
     "metadata": {},
     "output_type": "execute_result"
    }
   ],
   "source": [
    "bgg_data.isnull().sum()"
   ]
  },
  {
   "cell_type": "code",
   "execution_count": 34,
   "id": "e57a95db",
   "metadata": {},
   "outputs": [
    {
     "data": {
      "image/png": "[encoded data removed]",
      "text/plain": [
       "<Figure size 1080x720 with 12 Axes>"
      ]
     },
     "metadata": {
      "needs_background": "light"
     },
     "output_type": "display_data"
    }
   ],
   "source": [
    "bgg_data.hist(figsize=(15,10))\n",
    "plt.subplots_adjust(hspace=0.5);"
   ]
  },
  {
   "cell_type": "markdown",
   "id": "ce33dfca",
   "metadata": {},
   "source": [
    "Looking at the histograms, the data seems overall reasonable and with little to no outliers that will affect the data negatively. "
   ]
  },
  {
   "cell_type": "code",
   "execution_count": 20,
   "id": "f8ec471d",
   "metadata": {},
   "outputs": [
    {
     "name": "stdout",
     "output_type": "stream",
     "text": [
      "<class 'pandas.core.frame.DataFrame'>\n",
      "RangeIndex: 20343 entries, 0 to 20342\n",
      "Data columns (total 14 columns):\n",
      " #   Column              Non-Null Count  Dtype  \n",
      "---  ------              --------------  -----  \n",
      " 0   ID                  20343 non-null  float64\n",
      " 1   Name                20343 non-null  object \n",
      " 2   Year Published      20343 non-null  float64\n",
      " 3   Min Players         20343 non-null  int64  \n",
      " 4   Max Players         20343 non-null  int64  \n",
      " 5   Play Time           20343 non-null  int64  \n",
      " 6   Min Age             20343 non-null  int64  \n",
      " 7   Users Rated         20343 non-null  int64  \n",
      " 8   Rating Average      20343 non-null  float64\n",
      " 9   BGG Rank            20343 non-null  int64  \n",
      " 10  Complexity Average  20343 non-null  float64\n",
      " 11  Owned Users         20343 non-null  float64\n",
      " 12  Mechanics           20343 non-null  object \n",
      " 13  Domains             20343 non-null  object \n",
      "dtypes: float64(5), int64(6), object(3)\n",
      "memory usage: 2.2+ MB\n"
     ]
    }
   ],
   "source": [
    "bgg_data.info()"
   ]
  },
  {
   "cell_type": "markdown",
   "id": "1c750b23",
   "metadata": {},
   "source": [
    "At this point, I wish to find the unique values that are in Mechanics and Domains as I will use which keywords affect rank the most or whether there is a trend there."
   ]
  },
  {
   "cell_type": "code",
   "execution_count": 21,
   "id": "9f1d1fab",
   "metadata": {},
   "outputs": [],
   "source": [
    "temp = bgg_data['Domains'].str.split(',').to_numpy()\n",
    "d_unique=np.unique(sum(temp, []))\n",
    "temp = bgg_data['Mechanics'].str.split(',').to_numpy()\n",
    "m_unique=np.unique(sum(temp, []))"
   ]
  },
  {
   "cell_type": "code",
   "execution_count": 22,
   "id": "537a9237",
   "metadata": {},
   "outputs": [
    {
     "name": "stdout",
     "output_type": "stream",
     "text": [
      "[\" Children's Games\" ' Customizable Games' ' Family Games' ' Party Games'\n",
      " ' Strategy Games' ' Thematic Games' ' Wargames' 'Abstract Games'\n",
      " \"Children's Games\" 'Customizable Games' 'Family Games' 'Party Games'\n",
      " 'Strategy Games' 'Thematic Games' 'Unknown' 'Wargames']\n",
      "[' Action Points' ' Action Queue' ' Action Retrieval' ' Action Timer'\n",
      " ' Action/Event' ' Advantage Token' ' Alliances'\n",
      " ' Area Majority / Influence' ' Area Movement' ' Area-Impulse'\n",
      " ' Auction/Bidding' ' Auction: Dexterity' ' Auction: Dutch'\n",
      " ' Auction: Dutch Priority' ' Auction: English'\n",
      " ' Auction: Fixed Placement' ' Auction: Once Around'\n",
      " ' Auction: Sealed Bid' ' Auction: Turn Order Until Pass'\n",
      " ' Automatic Resource Growth' ' Betting and Bluffing' ' Bias' ' Bingo'\n",
      " ' Bribery' ' Campaign / Battle Card Driven' ' Card Drafting'\n",
      " ' Card Play Conflict Resolution' ' Catch the Leader' ' Chaining'\n",
      " ' Chit-Pull System' ' Closed Economy Auction' ' Command Cards'\n",
      " ' Commodity Speculation' ' Communication Limits' ' Connections'\n",
      " ' Constrained Bidding' ' Contracts' ' Cooperative Game'\n",
      " ' Crayon Rail System' ' Critical Hits and Failures' ' Cube Tower'\n",
      " ' Deck Bag and Pool Building' ' Deck Construction' ' Deduction'\n",
      " ' Delayed Purchase' ' Dice Rolling' ' Die Icon Resolution'\n",
      " ' Different Dice Movement' ' Different Worker Types' ' Drafting'\n",
      " ' Elapsed Real Time Ending' ' Enclosure' ' End Game Bonuses' ' Events'\n",
      " ' Finale Ending' ' Flicking' ' Follow' ' Force Commitment'\n",
      " ' Grid Coverage' ' Grid Movement' ' Hand Management' ' Hexagon Grid'\n",
      " ' Hidden Movement' ' Hidden Roles' ' Hidden Victory Points'\n",
      " ' Highest-Lowest Scoring' ' Hot Potato' ' I Cut You Choose'\n",
      " ' Impulse Movement' ' Income' ' Increase Value of Unchosen Resources'\n",
      " ' Induction' ' Interrupts' ' Investment' ' Kill Steal'\n",
      " ' King of the Hill' ' Ladder Climbing' ' Layering' ' Legacy Game'\n",
      " ' Line Drawing' ' Line of Sight' ' Loans' ' Lose a Turn' ' Mancala'\n",
      " ' Map Addition' ' Map Deformation' ' Map Reduction' ' Market' ' Matching'\n",
      " ' Measurement Movement' ' Melding and Splaying' ' Memory'\n",
      " ' Minimap Resolution' ' Modular Board' ' Move Through Deck'\n",
      " ' Movement Points' ' Movement Template' ' Moving Multiple Units'\n",
      " ' Multiple Maps' ' Multiple-Lot Auction' ' Narrative Choice / Paragraph'\n",
      " ' Negotiation' ' Network and Route Building' ' Once-Per-Game Abilities'\n",
      " ' Order Counters' ' Ownership' ' Paper-and-Pencil' ' Passed Action Token'\n",
      " ' Pattern Building' ' Pattern Movement' ' Pattern Recognition'\n",
      " ' Physical Removal' ' Pick-up and Deliver' ' Pieces as Map'\n",
      " ' Player Elimination' ' Player Judge' ' Point to Point Movement'\n",
      " ' Predictive Bid' \" Prisoner's Dilemma\" ' Programmed Movement'\n",
      " ' Push Your Luck' ' Race' ' Random Production'\n",
      " ' Ratio / Combat Results Table' ' Re-rolling and Locking' ' Real-Time'\n",
      " ' Relative Movement' ' Resource to Move' ' Rock-Paper-Scissors'\n",
      " ' Role Playing' ' Roles with Asymmetric Information'\n",
      " ' Roll / Spin and Move' ' Rondel' ' Scenario / Mission / Campaign Game'\n",
      " ' Score-and-Reset Game' ' Secret Unit Deployment' ' Selection Order Bid'\n",
      " ' Semi-Cooperative Game' ' Set Collection' ' Simulation'\n",
      " ' Simultaneous Action Selection' ' Singing' ' Single Loser Game'\n",
      " ' Slide/Push' ' Solo / Solitaire Game' ' Speed Matching' ' Square Grid'\n",
      " ' Stacking and Balancing' ' Stat Check Resolution' ' Static Capture'\n",
      " ' Stock Holding' ' Storytelling' ' Sudden Death Ending' ' Take That'\n",
      " ' Targeted Clues' ' Team-Based Game' ' Tech Trees / Tech Tracks'\n",
      " ' Three Dimensional Movement' ' Tile Placement' ' Time Track'\n",
      " ' Track Movement' ' Trading' ' Traitor Game' ' Trick-taking'\n",
      " ' Tug of War' ' Turn Order: Auction' ' Turn Order: Claim Action'\n",
      " ' Turn Order: Pass Order' ' Turn Order: Progressive'\n",
      " ' Turn Order: Random' ' Turn Order: Role Order' ' Turn Order: Stat-Based'\n",
      " ' Variable Phase Order' ' Variable Player Powers' ' Variable Set-up'\n",
      " ' Victory Points as a Resource' ' Voting' ' Worker Placement'\n",
      " ' Worker Placement with Dice Workers' ' Zone of Control' 'Acting'\n",
      " 'Action Drafting' 'Action Points' 'Action Queue' 'Action Retrieval'\n",
      " 'Action Timer' 'Action/Event' 'Advantage Token' 'Alliances'\n",
      " 'Area Majority / Influence' 'Area Movement' 'Area-Impulse'\n",
      " 'Auction/Bidding' 'Auction: Dutch' 'Auction: Dutch Priority'\n",
      " 'Auction: Sealed Bid' 'Auction: Turn Order Until Pass'\n",
      " 'Automatic Resource Growth' 'Betting and Bluffing' 'Bias' 'Bingo'\n",
      " 'Bribery' 'Campaign / Battle Card Driven' 'Card Drafting'\n",
      " 'Card Play Conflict Resolution' 'Catch the Leader' 'Chaining'\n",
      " 'Chit-Pull System' 'Closed Economy Auction' 'Command Cards'\n",
      " 'Commodity Speculation' 'Communication Limits' 'Connections' 'Contracts'\n",
      " 'Cooperative Game' 'Crayon Rail System' 'Critical Hits and Failures'\n",
      " 'Cube Tower' 'Deck Bag and Pool Building' 'Deck Construction' 'Deduction'\n",
      " 'Dice Rolling' 'Die Icon Resolution' 'Drafting'\n",
      " 'Elapsed Real Time Ending' 'Enclosure' 'End Game Bonuses' 'Events'\n",
      " 'Flicking' 'Follow' 'Force Commitment' 'Grid Coverage' 'Grid Movement'\n",
      " 'Hand Management' 'Hexagon Grid' 'Hidden Movement' 'Hidden Roles'\n",
      " 'Hidden Victory Points' 'Highest-Lowest Scoring' 'Hot Potato'\n",
      " 'I Cut You Choose' 'Income' 'Increase Value of Unchosen Resources'\n",
      " 'Induction' 'Investment' 'Ladder Climbing' 'Layering' 'Legacy Game'\n",
      " 'Line Drawing' 'Line of Sight' 'Loans' 'Lose a Turn' 'Mancala'\n",
      " 'Map Addition' 'Map Deformation' 'Map Reduction' 'Market' 'Matching'\n",
      " 'Measurement Movement' 'Melding and Splaying' 'Memory' 'Modular Board'\n",
      " 'Move Through Deck' 'Movement Template' 'Multiple Maps' 'Negotiation'\n",
      " 'Network and Route Building' 'Once-Per-Game Abilities' 'Ownership'\n",
      " 'Paper-and-Pencil' 'Passed Action Token' 'Pattern Building'\n",
      " 'Pattern Recognition' 'Physical Removal' 'Pick-up and Deliver'\n",
      " 'Pieces as Map' 'Player Elimination' 'Player Judge'\n",
      " 'Point to Point Movement' 'Predictive Bid' \"Prisoner's Dilemma\"\n",
      " 'Push Your Luck' 'Race' 'Real-Time' 'Relative Movement'\n",
      " 'Resource to Move' 'Rock-Paper-Scissors' 'Role Playing'\n",
      " 'Roles with Asymmetric Information' 'Roll / Spin and Move' 'Rondel'\n",
      " 'Scenario / Mission / Campaign Game' 'Score-and-Reset Game'\n",
      " 'Secret Unit Deployment' 'Semi-Cooperative Game' 'Set Collection'\n",
      " 'Simulation' 'Simultaneous Action Selection' 'Singing'\n",
      " 'Single Loser Game' 'Solo / Solitaire Game' 'Speed Matching'\n",
      " 'Square Grid' 'Stacking and Balancing' 'Stock Holding' 'Storytelling'\n",
      " 'Take That' 'Targeted Clues' 'Team-Based Game' 'Tile Placement'\n",
      " 'Time Track' 'Trading' 'Traitor Game' 'Trick-taking' 'Unknown'\n",
      " 'Variable Phase Order' 'Variable Player Powers' 'Voting'\n",
      " 'Worker Placement']\n"
     ]
    }
   ],
   "source": [
    "print(d_unique)\n",
    "print(m_unique)"
   ]
  },
  {
   "cell_type": "markdown",
   "id": "8b6c2764",
   "metadata": {},
   "source": [
    "Here I check to see whether all the values are unique as to see if there are any duplicate board games."
   ]
  },
  {
   "cell_type": "code",
   "execution_count": 32,
   "id": "f9ad1af8",
   "metadata": {},
   "outputs": [
    {
     "data": {
      "text/plain": [
       "207487.0    1\n",
       "42131.0     1\n",
       "283073.0    1\n",
       "33023.0     1\n",
       "35219.0     1\n",
       "Name: ID, dtype: int64"
      ]
     },
     "execution_count": 32,
     "metadata": {},
     "output_type": "execute_result"
    }
   ],
   "source": [
    "bgg_data['ID'].value_counts().head()"
   ]
  },
  {
   "cell_type": "markdown",
   "id": "341738b3",
   "metadata": {},
   "source": [
    "Oveerall, I think my data is cleaned up with no null values and with suitable replacements. I have checked for outliers in the histograms and the data seems to be ready."
   ]
  }
 ],
 "metadata": {
  "kernelspec": {
   "display_name": "Python 3",
   "language": "python",
   "name": "python3"
  },
  "language_info": {
   "codemirror_mode": {
    "name": "ipython",
    "version": 3
   },
   "file_extension": ".py",
   "mimetype": "text/x-python",
   "name": "python",
   "nbconvert_exporter": "python",
   "pygments_lexer": "ipython3",
   "version": "3.8.8"
  }
 },
 "nbformat": 4,
 "nbformat_minor": 5
}
